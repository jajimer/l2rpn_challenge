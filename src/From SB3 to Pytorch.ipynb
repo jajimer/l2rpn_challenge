{
 "cells": [
  {
   "cell_type": "code",
   "execution_count": 1,
   "metadata": {},
   "outputs": [],
   "source": [
    "import torch\n",
    "import os\n",
    "import pickle\n",
    "import gym\n",
    "import numpy as np\n",
    "from torch import nn\n",
    "from environment import GridEnv"
   ]
  },
  {
   "cell_type": "code",
   "execution_count": 2,
   "metadata": {},
   "outputs": [],
   "source": [
    "checkpoint = torch.load('../../../../Downloads/best_model/policy.pth', map_location=torch.device('cpu'))"
   ]
  },
  {
   "cell_type": "code",
   "execution_count": 3,
   "metadata": {},
   "outputs": [],
   "source": [
    "class MyModel(nn.Module):\n",
    "    def __init__(self, observation_space, features_dim: int = 512):\n",
    "        super(MyModel, self).__init__()\n",
    "        # We assume CxHxW images (channels first)\n",
    "        n_input_channels = 5\n",
    "        self.cnn = nn.Sequential(\n",
    "            nn.Conv2d(n_input_channels, 32, kernel_size=8, stride=4, padding=0),\n",
    "            nn.ReLU(),\n",
    "            nn.Conv2d(32, 64, kernel_size=4, stride=2, padding=0),\n",
    "            nn.ReLU(),\n",
    "            nn.Conv2d(64, 64, kernel_size=3, stride=1, padding=0),\n",
    "            nn.ReLU(),\n",
    "            nn.Flatten(),\n",
    "        )\n",
    "        # Compute shape by doing one forward pass\n",
    "        with torch.no_grad():\n",
    "            n_flatten = self.cnn(torch.as_tensor(observation_space.sample()[None]).float()).shape[1]\n",
    "        # Latent vector\n",
    "        self.linear = nn.Sequential(nn.Linear(n_flatten, features_dim))\n",
    "\n",
    "        # Policy network\n",
    "        self.policy_net = nn.Sequential(\n",
    "            nn.Linear(features_dim, 128),\n",
    "            nn.ReLU(),\n",
    "            nn.Linear(128, 36),\n",
    "            nn.Softmax(1),\n",
    "        )\n",
    "        # Value network\n",
    "        self.value_net = nn.Sequential(\n",
    "            nn.Linear(features_dim, 64), \n",
    "            nn.ReLU(),\n",
    "        )\n",
    "        self.V = nn.Linear(64, 1)\n",
    "\n",
    "        # Subaction logits\n",
    "        self.action_net = nn.Sequential(\n",
    "                nn.Linear(36, 177),\n",
    "                nn.Sigmoid()\n",
    "            )\n",
    "\n",
    "    def forward(self, x):\n",
    "        latent = self.linear(self.cnn(x))\n",
    "        probs = self.policy_net(latent)\n",
    "        policy = self.action_net(probs)\n",
    "        value = self.V(self.value_net(latent))\n",
    "        return policy, probs, value"
   ]
  },
  {
   "cell_type": "code",
   "execution_count": 4,
   "metadata": {},
   "outputs": [],
   "source": [
    "from collections import OrderedDict\n",
    "od = OrderedDict()\n",
    "for k, v in checkpoint.items():\n",
    "    if 'features_extractor.' in k:\n",
    "        od[k.replace('features_extractor.', '')] = v\n",
    "    elif 'mlp_extractor.' in k:\n",
    "        od[k.replace('mlp_extractor.', '')] = v\n",
    "    elif k.startswith('value_net'):\n",
    "        od[k.replace('value_net.', 'V.')] = v\n",
    "    else:\n",
    "        od[k] = v"
   ]
  },
  {
   "cell_type": "code",
   "execution_count": 16,
   "metadata": {},
   "outputs": [
    {
     "name": "stdout",
     "output_type": "stream",
     "text": [
      "25.336982488632202\n",
      "13.050065040588379\n",
      "4.7016648054122925\n",
      "29.699761509895325\n",
      "-1.0\n",
      "1.8415354490280151\n",
      "13.631643772125244\n",
      "1.9290415048599243\n",
      "32.6223578453064\n",
      "4.671126484870911\n",
      "Mean reward.  12.648417890071869\n",
      "1.8351080417633057\n",
      "-1.0\n",
      "4.084090828895569\n",
      "-1.0\n",
      "-1.0\n",
      "10.474327087402344\n",
      "-1.0\n",
      "-1.0\n",
      "5.483372092247009\n",
      "4.6402528285980225\n",
      "Mean reward.  7.400066488981247\n",
      "13.417008638381958\n",
      "7.3912270069122314\n",
      "-0.29331958293914795\n",
      "-1.0\n",
      "-1.0\n",
      "4.687533259391785\n",
      "5.476511836051941\n",
      "7.894920587539673\n",
      "31.92615807056427\n",
      "13.205492496490479\n",
      "Mean reward.  7.656895403067271\n"
     ]
    }
   ],
   "source": [
    "selections = []\n",
    "rewards = []\n",
    "for seed in [42, 1, 90]:    \n",
    "    env = GridEnv(seed = seed)\n",
    "    net = MyModel(env.observation_space)\n",
    "    net.load_state_dict(od)\n",
    "    net.eval()\n",
    "    for i in range(10):\n",
    "        obs = env.reset()\n",
    "        mask = torch.as_tensor(env.actuator.mask)\n",
    "        reward = 0\n",
    "        done = False\n",
    "        while not done:\n",
    "            probs, p, _ = net(torch.as_tensor(obs)[None])\n",
    "            substation = torch.multinomial(p, 1).item()\n",
    "            p_objects = probs * mask[substation, :]\n",
    "            action = torch.bernoulli(p_objects).detach().numpy()[0]\n",
    "            obs, r, done, _ = env.step(action)\n",
    "            selections.append(substation)\n",
    "            reward += r\n",
    "        rewards.append(reward)\n",
    "        print(reward)\n",
    "    print('Mean reward. ', np.mean(rewards))"
   ]
  },
  {
   "cell_type": "code",
   "execution_count": 17,
   "metadata": {},
   "outputs": [
    {
     "data": {
      "image/png": "[encoded data removed]",
      "text/plain": [
       "<Figure size 432x288 with 1 Axes>"
      ]
     },
     "metadata": {
      "needs_background": "light"
     },
     "output_type": "display_data"
    }
   ],
   "source": [
    "import matplotlib.pyplot as plt\n",
    "%matplotlib inline\n",
    "\n",
    "plt.hist(selections)\n",
    "plt.show()"
   ]
  },
  {
   "cell_type": "code",
   "execution_count": 18,
   "metadata": {},
   "outputs": [
    {
     "data": {
      "text/plain": [
       "[<matplotlib.lines.Line2D at 0x7fa99a3977f0>]"
      ]
     },
     "execution_count": 18,
     "metadata": {},
     "output_type": "execute_result"
    },
    {
     "data": {
      "image/png": "[encoded data removed]",
      "text/plain": [
       "<Figure size 432x288 with 1 Axes>"
      ]
     },
     "metadata": {
      "needs_background": "light"
     },
     "output_type": "display_data"
    }
   ],
   "source": [
    "plt.plot(rewards)"
   ]
  },
  {
   "cell_type": "code",
   "execution_count": null,
   "metadata": {},
   "outputs": [],
   "source": []
  }
 ],
 "metadata": {
  "kernelspec": {
   "display_name": "Python 3",
   "language": "python",
   "name": "python3"
  },
  "language_info": {
   "codemirror_mode": {
    "name": "ipython",
    "version": 3
   },
   "file_extension": ".py",
   "mimetype": "text/x-python",
   "name": "python",
   "nbconvert_exporter": "python",
   "pygments_lexer": "ipython3",
   "version": "3.7.3"
  }
 },
 "nbformat": 4,
 "nbformat_minor": 4
}
