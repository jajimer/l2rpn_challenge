{
 "cells": [
  {
   "cell_type": "code",
   "execution_count": 1,
   "metadata": {},
   "outputs": [],
   "source": [
    "import os\n",
    "import json\n",
    "import math\n",
    "import numpy as np\n",
    "import grid2op\n",
    "from grid2op.Agent import AgentWithConverter\n",
    "from grid2op.Converter import IdToAct"
   ]
  },
  {
   "cell_type": "code",
   "execution_count": 2,
   "metadata": {},
   "outputs": [],
   "source": [
    "class MyAgent(AgentWithConverter):\n",
    "    def __init__(self,\n",
    "                 observation_space,\n",
    "                 action_space,\n",
    "                 name=__name__,\n",
    "                 is_training=False):\n",
    "        # Call parent constructor\n",
    "        AgentWithConverter.__init__(self, action_space,\n",
    "                                    action_space_converter=IdToAct)\n",
    "        self.obs_space = observation_space\n",
    "\n",
    "        # Filter\n",
    "        print(\"Actions filtering...\")\n",
    "        self.action_space.filter_action(self._filter_action)\n",
    "        print(\"..Done\")\n",
    "        self.action_size = self.action_space.size()\n",
    "        \n",
    "    def _filter_action(self, action):\n",
    "        act_type = action.get_types()\n",
    "        \n",
    "        if not any(act_type): \n",
    "            return True\n",
    "        elif act_type[-1]:\n",
    "            return True\n",
    "        else:\n",
    "            return False\n",
    "        \n",
    "    def convert_act(self, action):\n",
    "        return super().convert_act(action)\n",
    "    \n",
    "    def my_act(self, state=False, reward=False, done=False):\n",
    "        a = np.random.randint(0, self.action_size)\n",
    "        print(a)\n",
    "        action = self.convert_act(a)\n",
    "        return a"
   ]
  },
  {
   "cell_type": "code",
   "execution_count": null,
   "metadata": {},
   "outputs": [
    {
     "name": "stderr",
     "output_type": "stream",
     "text": [
      "/home/jjimenez/envs/l2rpn/lib/python3.7/site-packages/grid2op/MakeEnv/Make.py:282: UserWarning: It is the first time you use the environment \"l2rpn_neurips_2020_track1_small\".\n",
      "We will attempt to download this environment from remote\n",
      "  warnings.warn(_MAKE_FIRST_TIME_WARN.format(dataset_name))\n",
      "l2rpn_neurips_2020_track1_small.tar.bz2: 0.00B [00:00, ?B/s]"
     ]
    },
    {
     "name": "stdout",
     "output_type": "stream",
     "text": [
      "downloading the training data, this may take a while.\n"
     ]
    },
    {
     "name": "stderr",
     "output_type": "stream",
     "text": [
      "l2rpn_neurips_2020_track1_small.tar.bz2: 896MB [01:23, 10.8MB/s]                               \n"
     ]
    },
    {
     "name": "stdout",
     "output_type": "stream",
     "text": [
      "Extract the tar archive in \"/home/jjimenez/data_grid2op\"\n"
     ]
    }
   ],
   "source": [
    "env = grid2op.make(\"l2rpn_neurips_2020_track1_small\")\n",
    "env.seed(3)  # for reproducible experiments\n",
    "obs = env.reset()"
   ]
  },
  {
   "cell_type": "code",
   "execution_count": null,
   "metadata": {},
   "outputs": [],
   "source": [
    "agent = MyAgent(env.observation_space, env.action_space)"
   ]
  },
  {
   "cell_type": "code",
   "execution_count": 77,
   "metadata": {},
   "outputs": [
    {
     "name": "stdout",
     "output_type": "stream",
     "text": [
      "0\n",
      "This action will:\n",
      "\t - NOT change anything to the injections\n",
      "\t - NOT perform any redispatching action\n",
      "\t - NOT force any line status\n",
      "\t - NOT switch any line status\n",
      "\t - NOT switch anything in the topology\n",
      "\t - NOT force any particular bus configuration\n"
     ]
    }
   ],
   "source": [
    "action = agent.act(None, None)\n",
    "print(action)"
   ]
  },
  {
   "cell_type": "code",
   "execution_count": 26,
   "metadata": {},
   "outputs": [
    {
     "name": "stdout",
     "output_type": "stream",
     "text": [
      "This action will:\n",
      "\t - NOT change anything to the injections\n",
      "\t - Redispatch gen_55_29 of 2.799999952316284\n",
      "\t - NOT force any line status\n",
      "\t - NOT switch any line status\n",
      "\t - NOT switch anything in the topology\n",
      "\t - NOT force any particular bus configuration\n"
     ]
    }
   ],
   "source": []
  },
  {
   "cell_type": "code",
   "execution_count": 78,
   "metadata": {},
   "outputs": [
    {
     "data": {
      "text/plain": [
       "(<grid2op.Space.GridObjects.CompleteObservation_l2rpn_neurips_2020_track1 at 0x7f8a5f27ab70>,\n",
       " 841.6487,\n",
       " False,\n",
       " {'disc_lines': array([False, False, False, False, False, False, False, False, False,\n",
       "         False, False, False, False, False, False, False, False, False,\n",
       "         False, False, False, False, False, False, False, False, False,\n",
       "         False, False, False, False, False, False, False, False, False,\n",
       "         False, False, False, False, False, False, False, False, False,\n",
       "         False, False, False, False, False, False, False, False, False,\n",
       "         False, False, False, False, False]),\n",
       "  'is_illegal': False,\n",
       "  'is_ambiguous': False,\n",
       "  'is_dispatching_illegal': False,\n",
       "  'is_illegal_reco': False,\n",
       "  'opponent_attack_line': None,\n",
       "  'opponent_attack_sub': None,\n",
       "  'opponent_attack_duration': 0,\n",
       "  'exception': [],\n",
       "  'rewards': {}})"
      ]
     },
     "execution_count": 78,
     "metadata": {},
     "output_type": "execute_result"
    }
   ],
   "source": [
    "env.step(action)"
   ]
  },
  {
   "cell_type": "code",
   "execution_count": null,
   "metadata": {},
   "outputs": [],
   "source": []
  }
 ],
 "metadata": {
  "kernelspec": {
   "display_name": "Python 3",
   "language": "python",
   "name": "python3"
  },
  "language_info": {
   "codemirror_mode": {
    "name": "ipython",
    "version": 3
   },
   "file_extension": ".py",
   "mimetype": "text/x-python",
   "name": "python",
   "nbconvert_exporter": "python",
   "pygments_lexer": "ipython3",
   "version": "3.7.3"
  }
 },
 "nbformat": 4,
 "nbformat_minor": 4
}
